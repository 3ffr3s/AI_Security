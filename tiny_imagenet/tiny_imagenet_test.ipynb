{
 "cells": [
  {
   "cell_type": "code",
   "execution_count": 1,
   "metadata": {},
   "outputs": [],
   "source": [
    "import sys\n",
    "sys.path.append('../modules')\n",
    "\n",
    "from model import Resnet, Bottleneck\n",
    "from utils import TinyImageNetDataset\n",
    "\n",
    "import torch\n",
    "import torch.nn as nn\n",
    "import torchvision\n",
    "import torchvision.transforms as transforms\n",
    "from tqdm import tqdm\n",
    "import numpy as np\n",
    "import random\n",
    "from pathlib import Path\n",
    "import numpy as np "
   ]
  },
  {
   "cell_type": "code",
   "execution_count": 2,
   "metadata": {},
   "outputs": [],
   "source": [
    "# Tiny Imagenet\n",
    "\n",
    "train_mean = (0.3975, 0.4481, 0.4802)\n",
    "train_std = (0.2816, 0.2689, 0.2764)"
   ]
  },
  {
   "cell_type": "code",
   "execution_count": 3,
   "metadata": {},
   "outputs": [
    {
     "data": {
      "application/vnd.jupyter.widget-view+json": {
       "model_id": "4452adac7068451ba1fe177a47a4c23b",
       "version_major": 2,
       "version_minor": 0
      },
      "text/plain": [
       "Preloading val data...:   0%|          | 0/10000 [00:00<?, ?it/s]"
      ]
     },
     "metadata": {},
     "output_type": "display_data"
    }
   ],
   "source": [
    "transform_test = transforms.Compose([transforms.ToTensor(), transforms.Normalize(train_mean, train_std)])\n",
    "testset = TinyImageNetDataset('./data/tiny_imagenet/tiny-imagenet-200', mode = 'val', transform=transform_test)"
   ]
  },
  {
   "cell_type": "code",
   "execution_count": 4,
   "metadata": {},
   "outputs": [],
   "source": [
    "# param\n",
    "\n",
    "batch_size = 100"
   ]
  },
  {
   "cell_type": "code",
   "execution_count": 5,
   "metadata": {},
   "outputs": [],
   "source": [
    "test_dataloader = torch.utils.data.DataLoader(testset, batch_size=batch_size, shuffle=True)"
   ]
  },
  {
   "cell_type": "code",
   "execution_count": 6,
   "metadata": {},
   "outputs": [],
   "source": [
    "device = torch.device(\"cuda:3\" if torch.cuda.is_available() else \"cpu\")\n",
    "\n",
    "model_save_path = './model'\n",
    "model_list = sorted([x for x in Path(model_save_path).glob('*_epoch_*.pt')], key = lambda x : int(x.stem.strip('model_epoch_')))\n",
    "\n",
    "best_model_path = model_list[81]"
   ]
  },
  {
   "cell_type": "code",
   "execution_count": 7,
   "metadata": {},
   "outputs": [
    {
     "name": "stderr",
     "output_type": "stream",
     "text": [
      "100%|██████████| 100/100 [00:19<00:00,  5.26it/s]"
     ]
    },
    {
     "name": "stdout",
     "output_type": "stream",
     "text": [
      "accuracy : 46.4800\n",
      "val loss : 296.58758544921875\n"
     ]
    },
    {
     "name": "stderr",
     "output_type": "stream",
     "text": [
      "\n"
     ]
    }
   ],
   "source": [
    "hit = 0\n",
    "all_preds = []\n",
    "all_labels = []\n",
    "\n",
    "net = Resnet(Bottleneck, [3, 4, 6, 3], num_classes=200).to(device)\n",
    "net = torch.nn.DataParallel(net, device_ids=[3,4,6,7]).to(device)\n",
    "net.load_state_dict(torch.load(best_model_path)['state'])\n",
    "\n",
    "criterion = nn.CrossEntropyLoss()\n",
    "\n",
    "net.eval()\n",
    "\n",
    "with torch.no_grad():\n",
    "    test_loss = 0\n",
    "    for (test_x, test_y) in tqdm(test_dataloader):\n",
    "        preds = net(test_x.to(device))\n",
    "        loss = criterion(preds, test_y.to(device))\n",
    "        test_loss += loss\n",
    "        hit += ((preds.argmax(dim=1) == test_y.to(device)).sum().item())\n",
    "\n",
    "        all_preds.append(preds.argmax(dim=1))\n",
    "        all_labels.append(test_y)\n",
    "\n",
    "    accuracy = 100 * (hit/len(testset))\n",
    "    print(f'accuracy : {accuracy:.4f}')\n",
    "    print(f'val loss : {test_loss}')\n",
    "\n",
    "    #del net"
   ]
  }
 ],
 "metadata": {
  "kernelspec": {
   "display_name": "Python 3",
   "language": "python",
   "name": "python3"
  },
  "language_info": {
   "codemirror_mode": {
    "name": "ipython",
    "version": 3
   },
   "file_extension": ".py",
   "mimetype": "text/x-python",
   "name": "python",
   "nbconvert_exporter": "python",
   "pygments_lexer": "ipython3",
   "version": "3.7.4"
  }
 },
 "nbformat": 4,
 "nbformat_minor": 4
}
