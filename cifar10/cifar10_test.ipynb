{
 "cells": [
  {
   "cell_type": "code",
   "execution_count": 1,
   "metadata": {},
   "outputs": [],
   "source": [
    "import sys\n",
    "sys.path.append('../modules')\n",
    "\n",
    "from model import Resnet, Bottleneck\n",
    "\n",
    "import torch\n",
    "import torch.nn as nn\n",
    "import torchvision\n",
    "import torchvision.transforms as transforms\n",
    "from tqdm import tqdm\n",
    "from pathlib import Path \n",
    "import numpy as np"
   ]
  },
  {
   "cell_type": "code",
   "execution_count": 2,
   "metadata": {},
   "outputs": [],
   "source": [
    "# Param\n",
    "\n",
    "batch_size = 128"
   ]
  },
  {
   "cell_type": "code",
   "execution_count": 3,
   "metadata": {},
   "outputs": [],
   "source": [
    "train_mean = (0.4914, 0.4822, 0.4465)\n",
    "train_std = (0.2470, 0.2435, 0.2616)"
   ]
  },
  {
   "cell_type": "code",
   "execution_count": 4,
   "metadata": {},
   "outputs": [],
   "source": [
    "transform_test = transforms.Compose([transforms.ToTensor(), transforms.Normalize(train_mean, train_std)])"
   ]
  },
  {
   "cell_type": "code",
   "execution_count": 5,
   "metadata": {},
   "outputs": [],
   "source": [
    "testset = torchvision.datasets.CIFAR10(root='./data/cifar10', train=False, download=False, transform=transform_test)\n",
    "test_dataloader = torch.utils.data.DataLoader(testset, batch_size=128, shuffle=True)\n",
    "\n",
    "#classes = ('plane', 'car', 'bird', 'cat', 'deer', 'dog', 'frog', 'horse', 'ship', 'truck')"
   ]
  },
  {
   "cell_type": "code",
   "execution_count": 6,
   "metadata": {},
   "outputs": [],
   "source": [
    "device = torch.device(\"cuda:3\" if torch.cuda.is_available() else \"cpu\")\n",
    "\n",
    "model_save_path = './model'\n",
    "model_list = sorted([x for x in Path(model_save_path).glob('*_epoch_*.pt')], key = lambda x : int(x.stem.strip('model_epoch_')))\n",
    "\n",
    "best_model = model_list[190]"
   ]
  },
  {
   "cell_type": "code",
   "execution_count": 8,
   "metadata": {},
   "outputs": [
    {
     "name": "stderr",
     "output_type": "stream",
     "text": [
      "100%|██████████| 79/79 [00:06<00:00, 11.35it/s]"
     ]
    },
    {
     "name": "stdout",
     "output_type": "stream",
     "text": [
      "accuracy : 90.1100\n",
      "test loss : 48.911556243896484\n"
     ]
    },
    {
     "name": "stderr",
     "output_type": "stream",
     "text": [
      "\n"
     ]
    }
   ],
   "source": [
    "hit = 0\n",
    "all_preds = []\n",
    "all_labels = []\n",
    "\n",
    "net = Resnet(Bottleneck, [3, 4, 6, 3]).to(device)\n",
    "net = torch.nn.DataParallel(net, device_ids=[3,4,6,7]).to(device)\n",
    "net.load_state_dict(torch.load(best_model)['state'])\n",
    "\n",
    "criterion = nn.CrossEntropyLoss()\n",
    "\n",
    "net.eval()\n",
    "\n",
    "with torch.no_grad():\n",
    "    test_loss = 0\n",
    "    for (test_x, test_y) in tqdm(test_dataloader):\n",
    "        preds = net(test_x.to(device))\n",
    "        loss = criterion(preds, test_y.to(device))\n",
    "        test_loss += loss\n",
    "        hit += ((preds.argmax(dim=1) == test_y.to(device)).sum().item())\n",
    "\n",
    "        all_preds.append(preds.argmax(dim=1))\n",
    "        all_labels.append(test_y)\n",
    "\n",
    "    accuracy = 100 * (hit/len(testset))\n",
    "    print(f'accuracy : {accuracy:.4f}')\n",
    "    print(f'test loss : {test_loss}')\n",
    "\n",
    "    del net"
   ]
  }
 ],
 "metadata": {
  "kernelspec": {
   "display_name": "Python 3",
   "language": "python",
   "name": "python3"
  },
  "language_info": {
   "codemirror_mode": {
    "name": "ipython",
    "version": 3
   },
   "file_extension": ".py",
   "mimetype": "text/x-python",
   "name": "python",
   "nbconvert_exporter": "python",
   "pygments_lexer": "ipython3",
   "version": "3.7.4"
  }
 },
 "nbformat": 4,
 "nbformat_minor": 4
}
